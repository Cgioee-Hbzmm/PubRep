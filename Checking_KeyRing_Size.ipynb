{
  "nbformat": 4,
  "nbformat_minor": 0,
  "metadata": {
    "colab": {
      "provenance": [],
      "authorship_tag": "ABX9TyMtmbf4q/xmowJLnrwMzOCf",
      "include_colab_link": true
    },
    "kernelspec": {
      "name": "python3",
      "display_name": "Python 3"
    },
    "language_info": {
      "name": "python"
    }
  },
  "cells": [
    {
      "cell_type": "markdown",
      "metadata": {
        "id": "view-in-github",
        "colab_type": "text"
      },
      "source": [
        "<a href=\"https://colab.research.google.com/github/Cgioee-Hbzmm/PubRep/blob/main/Checking_KeyRing_Size.ipynb\" target=\"_parent\"><img src=\"https://colab.research.google.com/assets/colab-badge.svg\" alt=\"Open In Colab\"/></a>"
      ]
    },
    {
      "cell_type": "markdown",
      "source": [
        "In case the code makes computational errors, simply run all cells at once (Ctrl + F9) and check if the numbers $p_1$, $p_2$ and $p_3$ are pairwise coprime"
      ],
      "metadata": {
        "id": "IXZ5vRDOXTCY"
      }
    },
    {
      "cell_type": "markdown",
      "source": [
        "<div class=\"markdown-google-sans\">\n",
        "\n",
        "## 1. Some Preliminaries\n",
        "\n",
        "</div>"
      ],
      "metadata": {
        "id": "gZb29VuvdmLL"
      }
    },
    {
      "cell_type": "markdown",
      "source": [
        " The function CRT_3Gen$(p1,p2,p3)$ is specifically for generating a list of all numbers with their 3-coprime CRT counterparts.\n",
        "\n",
        "Specifically if $N=p_1\\cdot p_2 \\cdot p_3 $ with $gcd(p_i,p_j)=1$, for all $1\\leq i\\neq j\\leq 3$, then using Chinese Remainder Theorem,\n",
        "\\begin{align}\n",
        "  \\mathbb{Z}_N ≅ \\mathbb{Z}_{p_1}\\times \\mathbb{Z}_{p_2}\\times \\mathbb{Z}_{p_3}\n",
        "\\end{align}\n",
        "with\n",
        "\\begin{align}\n",
        "  a ⟼(a~mod~p_1, a~mod~p_2, a~mod~p_3)\n",
        "\\end{align}\n",
        "\n",
        "The function CRT_3Gen(p1,p2,p3) generates a list of all 3-coprime triplets of all numbers from $0$ to $N-1$. However, the function will return \"False\" as a Boolean Value if the 3 entries are not pairwise coprime."
      ],
      "metadata": {
        "id": "c8jKWUGtXH8j"
      }
    },
    {
      "cell_type": "markdown",
      "source": [
        "To check if they are pairwise coprime, I have defined a gcd function which simply follows the Euclidean Algorithm"
      ],
      "metadata": {
        "id": "LieRYozYUhfJ"
      }
    },
    {
      "cell_type": "code",
      "source": [
        "def gcd(a,b):\n",
        "  if (b==0):\n",
        "    return a\n",
        "  return gcd(b,a%b)"
      ],
      "metadata": {
        "id": "rI_qrkV8TFPZ"
      },
      "execution_count": null,
      "outputs": []
    },
    {
      "cell_type": "code",
      "execution_count": null,
      "metadata": {
        "id": "w_CRiq49uOoA"
      },
      "outputs": [],
      "source": [
        "def CRT_3Gen(p1,p2,p3):\n",
        "  if not(gcd(p1,p2)==1 and gcd(p2,p3)==1 and gcd(p3,p1)==1):\n",
        "    return False\n",
        "  N=p1*p2*p3\n",
        "  l=[]\n",
        "  for i in range(N):\n",
        "    t=(i%p1,i%p2,i%p3)\n",
        "    l.append((i%p1,i%p2,i%p3))\n",
        "  return l"
      ]
    },
    {
      "cell_type": "markdown",
      "source": [
        "Here is an example for $p_1=2,~p_2=3,~p_3=5$. Having stated this, note that $p_1,p_2$ and $p_3$ are global variables and changing them will affect the entire program."
      ],
      "metadata": {
        "id": "-m5iT73KhsyT"
      }
    },
    {
      "cell_type": "code",
      "source": [
        "p1 = 2\n",
        "p2 = 3\n",
        "p3 = 5\n",
        "N=p1*p2*p3"
      ],
      "metadata": {
        "id": "AJIl9596AYmI"
      },
      "execution_count": null,
      "outputs": []
    },
    {
      "cell_type": "code",
      "source": [
        "crt=CRT_3Gen(p1,p2,p3)\n",
        "crt"
      ],
      "metadata": {
        "colab": {
          "base_uri": "https://localhost:8080/"
        },
        "id": "X6HCgNxTJLR1",
        "outputId": "9bec2af3-f42e-45b2-98a5-d68b55037404"
      },
      "execution_count": null,
      "outputs": [
        {
          "output_type": "execute_result",
          "data": {
            "text/plain": [
              "[(0, 0, 0),\n",
              " (1, 1, 1),\n",
              " (0, 2, 2),\n",
              " (1, 0, 3),\n",
              " (0, 1, 4),\n",
              " (1, 2, 0),\n",
              " (0, 0, 1),\n",
              " (1, 1, 2),\n",
              " (0, 2, 3),\n",
              " (1, 0, 4),\n",
              " (0, 1, 0),\n",
              " (1, 2, 1),\n",
              " (0, 0, 2),\n",
              " (1, 1, 3),\n",
              " (0, 2, 4),\n",
              " (1, 0, 0),\n",
              " (0, 1, 1),\n",
              " (1, 2, 2),\n",
              " (0, 0, 3),\n",
              " (1, 1, 4),\n",
              " (0, 2, 0),\n",
              " (1, 0, 1),\n",
              " (0, 1, 2),\n",
              " (1, 2, 3),\n",
              " (0, 0, 4),\n",
              " (1, 1, 0),\n",
              " (0, 2, 1),\n",
              " (1, 0, 2),\n",
              " (0, 1, 3),\n",
              " (1, 2, 4)]"
            ]
          },
          "metadata": {},
          "execution_count": 79
        }
      ]
    },
    {
      "cell_type": "markdown",
      "source": [
        "Also note that \"crt\" is a global variable"
      ],
      "metadata": {
        "id": "1FRyHmBZaX7r"
      }
    },
    {
      "cell_type": "markdown",
      "source": [
        "To show its counterpart we take $p_1=3, p_2=4$, and $p_3=8$."
      ],
      "metadata": {
        "id": "zD4uaOimVSXr"
      }
    },
    {
      "cell_type": "code",
      "source": [
        "CRT_3Gen(3,4,8)"
      ],
      "metadata": {
        "colab": {
          "base_uri": "https://localhost:8080/"
        },
        "id": "KDYaPrExVHHi",
        "outputId": "90dc2dc5-78d0-4458-9480-e135257f3b38"
      },
      "execution_count": null,
      "outputs": [
        {
          "output_type": "execute_result",
          "data": {
            "text/plain": [
              "False"
            ]
          },
          "metadata": {},
          "execution_count": 80
        }
      ]
    },
    {
      "cell_type": "markdown",
      "source": [
        "To get the CRT triplet for a number simply put the value in the variable number"
      ],
      "metadata": {
        "id": "FGxab-Z2WbOB"
      }
    },
    {
      "cell_type": "code",
      "source": [
        "n=34\n",
        "crt[n%N]"
      ],
      "metadata": {
        "colab": {
          "base_uri": "https://localhost:8080/"
        },
        "id": "nOuwtaBOW4Jm",
        "outputId": "073b3cb9-ec72-438c-d5c7-79dc605ad5f5"
      },
      "execution_count": null,
      "outputs": [
        {
          "output_type": "execute_result",
          "data": {
            "text/plain": [
              "(0, 1, 4)"
            ]
          },
          "metadata": {},
          "execution_count": 81
        }
      ]
    },
    {
      "cell_type": "markdown",
      "source": [
        "In a similar fashion, to get the number from the pairwise triplet, change the value in the \"pair\" variable"
      ],
      "metadata": {
        "id": "6nRBY7IGYDkY"
      }
    },
    {
      "cell_type": "code",
      "source": [
        "pair=(1,2,3)\n",
        "crt.index(pair)"
      ],
      "metadata": {
        "colab": {
          "base_uri": "https://localhost:8080/"
        },
        "id": "SZ0P9_QjYCtW",
        "outputId": "875e5405-5133-4db2-b098-318730d78aa8"
      },
      "execution_count": null,
      "outputs": [
        {
          "output_type": "execute_result",
          "data": {
            "text/plain": [
              "23"
            ]
          },
          "metadata": {},
          "execution_count": 82
        }
      ]
    },
    {
      "cell_type": "markdown",
      "source": [
        "The CommonElements function checks 2 lists and stores the elements common in both, alongside counting them. It returns a size 2 tuple - list of elements common in both as well as the size of the above list\n"
      ],
      "metadata": {
        "id": "DXRuDo_dqCc2"
      }
    },
    {
      "cell_type": "code",
      "source": [
        "def CommonElements(K1,K):\n",
        "  I=list(set(K1).intersection(set(K)))\n",
        "  return (I,len(I))"
      ],
      "metadata": {
        "id": "U7pdMAIb7qvT"
      },
      "execution_count": null,
      "outputs": []
    },
    {
      "cell_type": "markdown",
      "source": [
        "---"
      ],
      "metadata": {
        "id": "6rCMETNefWfO"
      }
    },
    {
      "cell_type": "markdown",
      "source": [
        "<div class=\"markdown-google-sans\">\n",
        "\n",
        "## 2. Generating a Key Ring\n",
        "\n",
        "</div>"
      ],
      "metadata": {
        "id": "t0awkij1fXpT"
      }
    },
    {
      "cell_type": "markdown",
      "source": [
        "Consider a node $x \\in \\mathbb{Z}_{N}$ with node ids derived from the CRT isomorphism such that $x \\equiv (c_1,c_2,c_3)$,\n",
        " where $x \\equiv c_1 (\\bmod p_1),\\  x \\equiv c_2 (\\bmod p_2),\\ x \\equiv c_3 (\\bmod p_3)$.\n",
        " Then, an effective keyring for this node is: $\\{(i,j,c_3)|\\ i\\in\\mathbb{Z}_{p_1},j\\in\\mathbb{Z}_{p_2}\\}\\\n",
        " \\cup \\{(i,c_2,k)|\\ i\\in\\mathbb{Z}_{p_1},k\\in\\mathbb{Z}_{p_3}\\}\\ \\cup \\{(c_1,j,k)|\\ j\\in\\mathbb{Z}_{p_2},k\\in\\mathbb{Z}_{p_3}\\}$.\n",
        "\n",
        " Here, the function KeyRing generates a list of elements for the keyring from a tuple representing a number $n\\in \\{0,1,⋯,N-1\\}$ in its 3-CRT state"
      ],
      "metadata": {
        "id": "yvkeKQ6NiEci"
      }
    },
    {
      "cell_type": "code",
      "source": [
        "def KeyRing(elt):\n",
        "  t=[]\n",
        "  for i in range(p1):\n",
        "    for j in range(p2):\n",
        "      t.append((i,j,elt[2]))\n",
        "  for j in range(p2):\n",
        "    for k in range(p3):\n",
        "      t.append((elt[0],j,k))\n",
        "  for i in range(p1):\n",
        "    for k in range(p3):\n",
        "      t.append((i,elt[1],k))\n",
        "  return(list(set(t)))"
      ],
      "metadata": {
        "id": "mHQASs9V4uNu"
      },
      "execution_count": null,
      "outputs": []
    },
    {
      "cell_type": "markdown",
      "source": [
        "Here is an example with $1≡(1,1,1)$ with $p_1,p_2$ and $p_3$ the same as above\n",
        "\n",
        "The output represents all possible elements of the Key-Ring alongside the total number of elements in the Key-Ring\n"
      ],
      "metadata": {
        "id": "OpTblTkUnvyn"
      }
    },
    {
      "cell_type": "code",
      "source": [
        "K1=KeyRing((1,1,1))\n",
        "K1"
      ],
      "metadata": {
        "colab": {
          "base_uri": "https://localhost:8080/"
        },
        "id": "TDMzBwY67P53",
        "outputId": "42cc3321-cd68-4bf2-89b9-f4ad4b20a0a5"
      },
      "execution_count": null,
      "outputs": [
        {
          "output_type": "execute_result",
          "data": {
            "text/plain": [
              "[(0, 1, 0),\n",
              " (0, 1, 3),\n",
              " (1, 2, 2),\n",
              " (0, 0, 1),\n",
              " (0, 2, 1),\n",
              " (1, 0, 1),\n",
              " (1, 1, 0),\n",
              " (1, 0, 4),\n",
              " (1, 1, 3),\n",
              " (0, 1, 2),\n",
              " (1, 2, 4),\n",
              " (1, 2, 1),\n",
              " (1, 1, 2),\n",
              " (1, 0, 0),\n",
              " (1, 0, 3),\n",
              " (0, 1, 1),\n",
              " (0, 1, 4),\n",
              " (1, 2, 0),\n",
              " (1, 2, 3),\n",
              " (1, 1, 4),\n",
              " (1, 0, 2),\n",
              " (1, 1, 1)]"
            ]
          },
          "metadata": {},
          "execution_count": 103
        }
      ]
    },
    {
      "cell_type": "markdown",
      "source": [
        "We now check if the length of this list matches our estimate.\n",
        "\n",
        "The size of the Key-Ring should be\n",
        "$p_1⋅p_2+p_2⋅p_3+p_1⋅p_3-p_1-p_2-p_3+1= 2⋅3+3⋅5+2⋅5-2-3-5+1=22 $"
      ],
      "metadata": {
        "id": "VqhJtzBza7Pc"
      }
    },
    {
      "cell_type": "code",
      "source": [
        "lenKR= p1*p2+p2*p3+p1*p3-p1-p2-p3+1"
      ],
      "metadata": {
        "id": "-rCW0g22cpwo"
      },
      "execution_count": null,
      "outputs": []
    },
    {
      "cell_type": "code",
      "source": [
        "(len(K1),len(K1)==lenKR)"
      ],
      "metadata": {
        "colab": {
          "base_uri": "https://localhost:8080/"
        },
        "id": "9d-YfEfMa4X5",
        "outputId": "f59adccd-ba42-4932-cfe2-d843c298850c"
      },
      "execution_count": null,
      "outputs": [
        {
          "output_type": "execute_result",
          "data": {
            "text/plain": [
              "(22, True)"
            ]
          },
          "metadata": {},
          "execution_count": 105
        }
      ]
    },
    {
      "cell_type": "markdown",
      "source": [
        "---"
      ],
      "metadata": {
        "id": "Q91h2No6fuIg"
      }
    },
    {
      "cell_type": "markdown",
      "source": [
        "<div class=\"markdown-google-sans\">\n",
        "\n",
        "## Common elements of keyrings of $(c_1,c_2,c_3)$ and $(d_1,d_2,d_3)$ with all entries distinct, i.e, $c_1\\neq d_1,c_2\\neq d_2 $ and $c_3\\neq d_3$\n",
        "\n",
        "</div>\n"
      ],
      "metadata": {
        "id": "xHP8ztIWqiVG"
      }
    },
    {
      "cell_type": "markdown",
      "source": [
        "\n",
        "**Our assumption is that the number of common elements would be $2⋅(p_1+p_2+p_3)-6=14$**"
      ],
      "metadata": {
        "id": "2iFX1vR7VkWs"
      }
    },
    {
      "cell_type": "code",
      "source": [
        "len0=2*(p1+p2+p3)-6\n",
        "len0"
      ],
      "metadata": {
        "colab": {
          "base_uri": "https://localhost:8080/"
        },
        "id": "K5pUKiposqxN",
        "outputId": "76c81943-3ad7-40ca-8e74-c3efcacaa29b"
      },
      "execution_count": null,
      "outputs": [
        {
          "output_type": "execute_result",
          "data": {
            "text/plain": [
              "14"
            ]
          },
          "metadata": {},
          "execution_count": 88
        }
      ]
    },
    {
      "cell_type": "markdown",
      "source": [
        "Here we have taken the keyrings of $1$ as above and $2≡(0,2,2)$, which is shown below"
      ],
      "metadata": {
        "id": "HwDNcvqcrxc2"
      }
    },
    {
      "cell_type": "code",
      "source": [
        "K2 = KeyRing((0,2,2))\n",
        "K2"
      ],
      "metadata": {
        "colab": {
          "base_uri": "https://localhost:8080/"
        },
        "id": "aN8WQLpe7k0M",
        "outputId": "752f0e41-51eb-4e74-b611-098abe47d69a"
      },
      "execution_count": null,
      "outputs": [
        {
          "output_type": "execute_result",
          "data": {
            "text/plain": [
              "[(0, 1, 0),\n",
              " (0, 1, 3),\n",
              " (1, 2, 2),\n",
              " (0, 0, 1),\n",
              " (0, 0, 4),\n",
              " (0, 2, 1),\n",
              " (0, 2, 4),\n",
              " (0, 1, 2),\n",
              " (1, 2, 4),\n",
              " (1, 2, 1),\n",
              " (0, 0, 3),\n",
              " (0, 2, 0),\n",
              " (0, 0, 0),\n",
              " (0, 2, 3),\n",
              " (1, 1, 2),\n",
              " (0, 1, 1),\n",
              " (0, 1, 4),\n",
              " (1, 2, 0),\n",
              " (1, 2, 3),\n",
              " (0, 0, 2),\n",
              " (0, 2, 2),\n",
              " (1, 0, 2)]"
            ]
          },
          "metadata": {},
          "execution_count": 89
        }
      ]
    },
    {
      "cell_type": "code",
      "source": [
        "c0=CommonElements(K1,K2)\n",
        "c0[0]"
      ],
      "metadata": {
        "colab": {
          "base_uri": "https://localhost:8080/"
        },
        "id": "n-jfzXoL8ivR",
        "outputId": "91e06027-80ed-483a-f6fb-64e4553c2a25"
      },
      "execution_count": null,
      "outputs": [
        {
          "output_type": "execute_result",
          "data": {
            "text/plain": [
              "[(1, 2, 1),\n",
              " (0, 2, 1),\n",
              " (0, 1, 4),\n",
              " (0, 1, 0),\n",
              " (1, 2, 0),\n",
              " (0, 1, 3),\n",
              " (1, 2, 3),\n",
              " (1, 1, 2),\n",
              " (1, 2, 2),\n",
              " (0, 1, 2),\n",
              " (1, 0, 2),\n",
              " (0, 0, 1),\n",
              " (1, 2, 4),\n",
              " (0, 1, 1)]"
            ]
          },
          "metadata": {},
          "execution_count": 90
        }
      ]
    },
    {
      "cell_type": "code",
      "source": [
        "c0[1]==len0"
      ],
      "metadata": {
        "colab": {
          "base_uri": "https://localhost:8080/"
        },
        "id": "5YxKI4QMs0cq",
        "outputId": "3bf1aae4-5a3e-42fb-c055-ed930be624a9"
      },
      "execution_count": null,
      "outputs": [
        {
          "output_type": "execute_result",
          "data": {
            "text/plain": [
              "True"
            ]
          },
          "metadata": {},
          "execution_count": 91
        }
      ]
    },
    {
      "cell_type": "markdown",
      "source": [
        "---"
      ],
      "metadata": {
        "id": "GDKJdLYVuG8l"
      }
    },
    {
      "cell_type": "markdown",
      "source": [
        "<div class=\"markdown-google-sans\">\n",
        "\n",
        "## Common elements of keyrings of $(c_1,c_2,c_3)$ and $(d_1,d_2,d_3)$ with one entry identical\n",
        "\n",
        "</div>\n"
      ],
      "metadata": {
        "id": "_CnzsO1qvLz6"
      }
    },
    {
      "cell_type": "markdown",
      "source": [
        "Assume without loss of generality, that the 1st entry is identical\n",
        "\n",
        "i.e, $c_1 = d_1,c_2 \\neq d_2 $ and $c_3\\neq d_3$"
      ],
      "metadata": {
        "id": "NEzYJk1GFaW7"
      }
    },
    {
      "cell_type": "markdown",
      "source": [
        "Our estimate is $p_2p_3 + 2p_1 -2=17$"
      ],
      "metadata": {
        "id": "drs2EPJerzV3"
      }
    },
    {
      "cell_type": "code",
      "source": [
        "len1=p2*p3+2*p1-2\n",
        "len1"
      ],
      "metadata": {
        "colab": {
          "base_uri": "https://localhost:8080/"
        },
        "id": "lrmLeq84tLa4",
        "outputId": "5d039c7f-bbca-4935-9a09-fd7f5f61a0df"
      },
      "execution_count": null,
      "outputs": [
        {
          "output_type": "execute_result",
          "data": {
            "text/plain": [
              "17"
            ]
          },
          "metadata": {},
          "execution_count": 92
        }
      ]
    },
    {
      "cell_type": "markdown",
      "source": [
        "We take the keyrings of $13≡(1,1,3)$ and $29≡(1,2,4)$ which are shown below"
      ],
      "metadata": {
        "id": "wIHb-sgNFu-r"
      }
    },
    {
      "cell_type": "code",
      "source": [
        "K1_1=KeyRing((1,1,3))\n",
        "K1_1"
      ],
      "metadata": {
        "colab": {
          "base_uri": "https://localhost:8080/"
        },
        "id": "xJjpCjWXXKJi",
        "outputId": "188296ae-8b2a-4ed6-ac6c-dfa78a99eccd"
      },
      "execution_count": null,
      "outputs": [
        {
          "output_type": "execute_result",
          "data": {
            "text/plain": [
              "[(0, 1, 0),\n",
              " (0, 1, 3),\n",
              " (1, 2, 2),\n",
              " (1, 0, 1),\n",
              " (1, 1, 0),\n",
              " (1, 0, 4),\n",
              " (1, 1, 3),\n",
              " (0, 1, 2),\n",
              " (1, 2, 4),\n",
              " (1, 2, 1),\n",
              " (0, 0, 3),\n",
              " (0, 2, 3),\n",
              " (1, 1, 2),\n",
              " (1, 0, 0),\n",
              " (1, 0, 3),\n",
              " (0, 1, 1),\n",
              " (0, 1, 4),\n",
              " (1, 2, 0),\n",
              " (1, 2, 3),\n",
              " (1, 1, 4),\n",
              " (1, 0, 2),\n",
              " (1, 1, 1)]"
            ]
          },
          "metadata": {},
          "execution_count": 93
        }
      ]
    },
    {
      "cell_type": "code",
      "source": [
        "K2_1=KeyRing((1,2,4))\n",
        "K2_1"
      ],
      "metadata": {
        "colab": {
          "base_uri": "https://localhost:8080/"
        },
        "id": "XvvGhuhsEpGE",
        "outputId": "995b21c9-b639-412f-e930-e2be79b42cca"
      },
      "execution_count": null,
      "outputs": [
        {
          "output_type": "execute_result",
          "data": {
            "text/plain": [
              "[(1, 2, 2),\n",
              " (0, 0, 4),\n",
              " (0, 2, 1),\n",
              " (1, 0, 1),\n",
              " (0, 2, 2),\n",
              " (1, 1, 0),\n",
              " (0, 2, 4),\n",
              " (1, 0, 4),\n",
              " (1, 1, 3),\n",
              " (1, 2, 4),\n",
              " (1, 2, 1),\n",
              " (0, 2, 0),\n",
              " (0, 2, 3),\n",
              " (1, 1, 2),\n",
              " (1, 0, 0),\n",
              " (1, 0, 3),\n",
              " (0, 1, 4),\n",
              " (1, 2, 0),\n",
              " (1, 2, 3),\n",
              " (1, 1, 4),\n",
              " (1, 0, 2),\n",
              " (1, 1, 1)]"
            ]
          },
          "metadata": {},
          "execution_count": 94
        }
      ]
    },
    {
      "cell_type": "code",
      "source": [
        "c1=CommonElements(K1_1,K2_1)\n",
        "c1[0]"
      ],
      "metadata": {
        "colab": {
          "base_uri": "https://localhost:8080/"
        },
        "id": "z0a70hRZZmF6",
        "outputId": "544b9027-5db0-4fcf-ce1f-38c0f783ca96"
      },
      "execution_count": null,
      "outputs": [
        {
          "output_type": "execute_result",
          "data": {
            "text/plain": [
              "[(1, 2, 1),\n",
              " (1, 0, 1),\n",
              " (0, 1, 4),\n",
              " (1, 1, 0),\n",
              " (1, 1, 1),\n",
              " (1, 0, 4),\n",
              " (1, 2, 0),\n",
              " (1, 1, 3),\n",
              " (1, 2, 3),\n",
              " (0, 2, 3),\n",
              " (1, 1, 2),\n",
              " (1, 0, 0),\n",
              " (1, 2, 2),\n",
              " (1, 0, 3),\n",
              " (1, 1, 4),\n",
              " (1, 0, 2),\n",
              " (1, 2, 4)]"
            ]
          },
          "metadata": {},
          "execution_count": 95
        }
      ]
    },
    {
      "cell_type": "code",
      "source": [
        "(c1[1]==len1)"
      ],
      "metadata": {
        "colab": {
          "base_uri": "https://localhost:8080/"
        },
        "id": "-ZknsCGut-vR",
        "outputId": "1a4864c4-d0f1-4bbf-fc25-01232015f583"
      },
      "execution_count": null,
      "outputs": [
        {
          "output_type": "execute_result",
          "data": {
            "text/plain": [
              "True"
            ]
          },
          "metadata": {},
          "execution_count": 96
        }
      ]
    },
    {
      "cell_type": "markdown",
      "source": [
        "---"
      ],
      "metadata": {
        "id": "idZMVwAMuJrP"
      }
    },
    {
      "cell_type": "markdown",
      "source": [
        "<div class=\"markdown-google-sans\">\n",
        "\n",
        "## Common elements of keyrings of $(c_1,c_2,c_3)$ and $(d_1,d_2,d_3)$ with two entries identical\n",
        "\n",
        "</div>"
      ],
      "metadata": {
        "id": "Ku88i7s7NGVG"
      }
    },
    {
      "cell_type": "markdown",
      "source": [
        "Again, assume without loss of generality, that the 1st and 2nd entries are identical\n",
        "\n",
        "i.e, $c_1 = d_1,c_2 = d_2 $ and $c_3\\neq d_3$"
      ],
      "metadata": {
        "id": "NeT-TqegNln-"
      }
    },
    {
      "cell_type": "markdown",
      "source": [
        "Our assumption for this is $p_3(p_2+p_1-1) = 20$\n",
        "\n",
        "\n"
      ],
      "metadata": {
        "id": "e02tRtNGut5F"
      }
    },
    {
      "cell_type": "code",
      "source": [
        "len2=p3*(p2+p1-1)\n",
        "len2"
      ],
      "metadata": {
        "colab": {
          "base_uri": "https://localhost:8080/"
        },
        "id": "XjTAESMkyKNR",
        "outputId": "bcfaa040-a9ff-4f9d-d2f7-35568a5d4ad1"
      },
      "execution_count": null,
      "outputs": [
        {
          "output_type": "execute_result",
          "data": {
            "text/plain": [
              "20"
            ]
          },
          "metadata": {},
          "execution_count": 97
        }
      ]
    },
    {
      "cell_type": "markdown",
      "source": [
        "We take the keyrings of  $11≡(1,2,1)$  and  $17≡(1,2,2)$  which are shown below"
      ],
      "metadata": {
        "id": "OGYVkQubN_h-"
      }
    },
    {
      "cell_type": "code",
      "source": [
        "K1_2=KeyRing((1,2,1))\n",
        "K1_2"
      ],
      "metadata": {
        "colab": {
          "base_uri": "https://localhost:8080/"
        },
        "id": "JpegbbKtaEje",
        "outputId": "eb176c42-3778-4fa2-8ca0-6b1ec70b38d3"
      },
      "execution_count": null,
      "outputs": [
        {
          "output_type": "execute_result",
          "data": {
            "text/plain": [
              "[(1, 2, 2),\n",
              " (0, 0, 1),\n",
              " (0, 2, 1),\n",
              " (1, 0, 1),\n",
              " (0, 2, 2),\n",
              " (1, 1, 0),\n",
              " (0, 2, 4),\n",
              " (1, 0, 4),\n",
              " (1, 1, 3),\n",
              " (1, 2, 4),\n",
              " (1, 2, 1),\n",
              " (0, 2, 0),\n",
              " (0, 2, 3),\n",
              " (1, 1, 2),\n",
              " (1, 0, 0),\n",
              " (1, 0, 3),\n",
              " (0, 1, 1),\n",
              " (1, 2, 0),\n",
              " (1, 2, 3),\n",
              " (1, 1, 4),\n",
              " (1, 0, 2),\n",
              " (1, 1, 1)]"
            ]
          },
          "metadata": {},
          "execution_count": 98
        }
      ]
    },
    {
      "cell_type": "code",
      "source": [
        "K2_2=KeyRing((1,2,2))\n",
        "K2_2"
      ],
      "metadata": {
        "colab": {
          "base_uri": "https://localhost:8080/"
        },
        "id": "9aeZCTPIOyut",
        "outputId": "2d895b45-ce69-4e05-cd5b-bbe61f14bd6a"
      },
      "execution_count": null,
      "outputs": [
        {
          "output_type": "execute_result",
          "data": {
            "text/plain": [
              "[(1, 2, 2),\n",
              " (0, 2, 1),\n",
              " (1, 0, 1),\n",
              " (0, 2, 2),\n",
              " (1, 1, 0),\n",
              " (0, 2, 4),\n",
              " (1, 0, 4),\n",
              " (1, 1, 3),\n",
              " (0, 1, 2),\n",
              " (1, 2, 4),\n",
              " (1, 2, 1),\n",
              " (0, 2, 0),\n",
              " (0, 2, 3),\n",
              " (1, 1, 2),\n",
              " (1, 0, 0),\n",
              " (1, 0, 3),\n",
              " (1, 2, 0),\n",
              " (1, 2, 3),\n",
              " (0, 0, 2),\n",
              " (1, 1, 4),\n",
              " (1, 0, 2),\n",
              " (1, 1, 1)]"
            ]
          },
          "metadata": {},
          "execution_count": 99
        }
      ]
    },
    {
      "cell_type": "code",
      "source": [
        "c2=CommonElements(K1_2,K2_2)\n",
        "c2[0]"
      ],
      "metadata": {
        "colab": {
          "base_uri": "https://localhost:8080/"
        },
        "id": "rOZa_DnKbiuq",
        "outputId": "9d2c5df5-5013-4e92-f990-5547fd663d47"
      },
      "execution_count": null,
      "outputs": [
        {
          "output_type": "execute_result",
          "data": {
            "text/plain": [
              "[(1, 2, 2),\n",
              " (1, 1, 4),\n",
              " (0, 2, 1),\n",
              " (1, 0, 1),\n",
              " (1, 1, 0),\n",
              " (0, 2, 4),\n",
              " (1, 0, 4),\n",
              " (1, 1, 3),\n",
              " (1, 2, 4),\n",
              " (1, 2, 1),\n",
              " (0, 2, 0),\n",
              " (0, 2, 3),\n",
              " (1, 1, 2),\n",
              " (1, 0, 0),\n",
              " (1, 0, 3),\n",
              " (1, 2, 0),\n",
              " (1, 2, 3),\n",
              " (0, 2, 2),\n",
              " (1, 0, 2),\n",
              " (1, 1, 1)]"
            ]
          },
          "metadata": {},
          "execution_count": 100
        }
      ]
    },
    {
      "cell_type": "code",
      "source": [
        "c2[1]==len2"
      ],
      "metadata": {
        "colab": {
          "base_uri": "https://localhost:8080/"
        },
        "id": "fGk5qv6qyXzG",
        "outputId": "c1bc8ae5-f223-40ba-e203-5d79b214cb66"
      },
      "execution_count": null,
      "outputs": [
        {
          "output_type": "execute_result",
          "data": {
            "text/plain": [
              "True"
            ]
          },
          "metadata": {},
          "execution_count": 101
        }
      ]
    }
  ]
}